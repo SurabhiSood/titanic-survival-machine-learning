{
 "cells": [
  {
   "cell_type": "code",
   "execution_count": 1,
   "metadata": {},
   "outputs": [],
   "source": [
    "#dependencies\n",
    "#data processing\n",
    "import numpy as np \n",
    "import pandas as pd \n",
    "import xlrd\n",
    "\n",
    "# visualizaion\n",
    "import matplotlib.pyplot as plt \n",
    "import seaborn as sns \n",
    "\n",
    "# display graphs inline\n",
    "%matplotlib inline\n",
    "\n",
    "import warnings\n",
    "warnings.filterwarnings('ignore')"
   ]
  },
  {
   "cell_type": "code",
   "execution_count": 2,
   "metadata": {
    "scrolled": true
   },
   "outputs": [
    {
     "data": {
      "text/html": [
       "<div>\n",
       "<style scoped>\n",
       "    .dataframe tbody tr th:only-of-type {\n",
       "        vertical-align: middle;\n",
       "    }\n",
       "\n",
       "    .dataframe tbody tr th {\n",
       "        vertical-align: top;\n",
       "    }\n",
       "\n",
       "    .dataframe thead th {\n",
       "        text-align: right;\n",
       "    }\n",
       "</style>\n",
       "<table border=\"1\" class=\"dataframe\">\n",
       "  <thead>\n",
       "    <tr style=\"text-align: right;\">\n",
       "      <th></th>\n",
       "      <th>passengerid</th>\n",
       "      <th>pclass</th>\n",
       "      <th>survived</th>\n",
       "      <th>name</th>\n",
       "      <th>sex</th>\n",
       "      <th>age</th>\n",
       "      <th>sibsp</th>\n",
       "      <th>parch</th>\n",
       "      <th>ticket</th>\n",
       "      <th>fare</th>\n",
       "      <th>cabin</th>\n",
       "      <th>embarked</th>\n",
       "      <th>boat</th>\n",
       "      <th>body</th>\n",
       "      <th>home.dest</th>\n",
       "    </tr>\n",
       "  </thead>\n",
       "  <tbody>\n",
       "    <tr>\n",
       "      <th>0</th>\n",
       "      <td>1</td>\n",
       "      <td>1</td>\n",
       "      <td>1</td>\n",
       "      <td>Allen, Miss. Elisabeth Walton</td>\n",
       "      <td>female</td>\n",
       "      <td>29.0000</td>\n",
       "      <td>0</td>\n",
       "      <td>0</td>\n",
       "      <td>24160</td>\n",
       "      <td>211.3375</td>\n",
       "      <td>B5</td>\n",
       "      <td>S</td>\n",
       "      <td>2</td>\n",
       "      <td>NaN</td>\n",
       "      <td>St Louis, MO</td>\n",
       "    </tr>\n",
       "    <tr>\n",
       "      <th>1</th>\n",
       "      <td>2</td>\n",
       "      <td>1</td>\n",
       "      <td>1</td>\n",
       "      <td>Allison, Master. Hudson Trevor</td>\n",
       "      <td>male</td>\n",
       "      <td>0.9167</td>\n",
       "      <td>1</td>\n",
       "      <td>2</td>\n",
       "      <td>113781</td>\n",
       "      <td>151.5500</td>\n",
       "      <td>C22 C26</td>\n",
       "      <td>S</td>\n",
       "      <td>11</td>\n",
       "      <td>NaN</td>\n",
       "      <td>Montreal, PQ / Chesterville, ON</td>\n",
       "    </tr>\n",
       "    <tr>\n",
       "      <th>2</th>\n",
       "      <td>3</td>\n",
       "      <td>1</td>\n",
       "      <td>0</td>\n",
       "      <td>Allison, Miss. Helen Loraine</td>\n",
       "      <td>female</td>\n",
       "      <td>2.0000</td>\n",
       "      <td>1</td>\n",
       "      <td>2</td>\n",
       "      <td>113781</td>\n",
       "      <td>151.5500</td>\n",
       "      <td>C22 C26</td>\n",
       "      <td>S</td>\n",
       "      <td>NaN</td>\n",
       "      <td>NaN</td>\n",
       "      <td>Montreal, PQ / Chesterville, ON</td>\n",
       "    </tr>\n",
       "    <tr>\n",
       "      <th>3</th>\n",
       "      <td>4</td>\n",
       "      <td>1</td>\n",
       "      <td>0</td>\n",
       "      <td>Allison, Mr. Hudson Joshua Creighton</td>\n",
       "      <td>male</td>\n",
       "      <td>30.0000</td>\n",
       "      <td>1</td>\n",
       "      <td>2</td>\n",
       "      <td>113781</td>\n",
       "      <td>151.5500</td>\n",
       "      <td>C22 C26</td>\n",
       "      <td>S</td>\n",
       "      <td>NaN</td>\n",
       "      <td>135.0</td>\n",
       "      <td>Montreal, PQ / Chesterville, ON</td>\n",
       "    </tr>\n",
       "    <tr>\n",
       "      <th>4</th>\n",
       "      <td>5</td>\n",
       "      <td>1</td>\n",
       "      <td>0</td>\n",
       "      <td>Allison, Mrs. Hudson J C (Bessie Waldo Daniels)</td>\n",
       "      <td>female</td>\n",
       "      <td>25.0000</td>\n",
       "      <td>1</td>\n",
       "      <td>2</td>\n",
       "      <td>113781</td>\n",
       "      <td>151.5500</td>\n",
       "      <td>C22 C26</td>\n",
       "      <td>S</td>\n",
       "      <td>NaN</td>\n",
       "      <td>NaN</td>\n",
       "      <td>Montreal, PQ / Chesterville, ON</td>\n",
       "    </tr>\n",
       "  </tbody>\n",
       "</table>\n",
       "</div>"
      ],
      "text/plain": [
       "   passengerid  pclass  survived  \\\n",
       "0            1       1         1   \n",
       "1            2       1         1   \n",
       "2            3       1         0   \n",
       "3            4       1         0   \n",
       "4            5       1         0   \n",
       "\n",
       "                                              name     sex      age  sibsp  \\\n",
       "0                    Allen, Miss. Elisabeth Walton  female  29.0000      0   \n",
       "1                   Allison, Master. Hudson Trevor    male   0.9167      1   \n",
       "2                     Allison, Miss. Helen Loraine  female   2.0000      1   \n",
       "3             Allison, Mr. Hudson Joshua Creighton    male  30.0000      1   \n",
       "4  Allison, Mrs. Hudson J C (Bessie Waldo Daniels)  female  25.0000      1   \n",
       "\n",
       "   parch  ticket      fare    cabin embarked boat   body  \\\n",
       "0      0   24160  211.3375       B5        S    2    NaN   \n",
       "1      2  113781  151.5500  C22 C26        S   11    NaN   \n",
       "2      2  113781  151.5500  C22 C26        S  NaN    NaN   \n",
       "3      2  113781  151.5500  C22 C26        S  NaN  135.0   \n",
       "4      2  113781  151.5500  C22 C26        S  NaN    NaN   \n",
       "\n",
       "                         home.dest  \n",
       "0                     St Louis, MO  \n",
       "1  Montreal, PQ / Chesterville, ON  \n",
       "2  Montreal, PQ / Chesterville, ON  \n",
       "3  Montreal, PQ / Chesterville, ON  \n",
       "4  Montreal, PQ / Chesterville, ON  "
      ]
     },
     "execution_count": 2,
     "metadata": {},
     "output_type": "execute_result"
    }
   ],
   "source": [
    "df = pd.read_excel('titanic_data/titanic3.xls')\n",
    "df.head()"
   ]
  },
  {
   "cell_type": "code",
   "execution_count": 3,
   "metadata": {},
   "outputs": [
    {
     "name": "stdout",
     "output_type": "stream",
     "text": [
      "<class 'pandas.core.frame.DataFrame'>\n",
      "RangeIndex: 1309 entries, 0 to 1308\n",
      "Data columns (total 15 columns):\n",
      " #   Column       Non-Null Count  Dtype  \n",
      "---  ------       --------------  -----  \n",
      " 0   passengerid  1309 non-null   int64  \n",
      " 1   pclass       1309 non-null   int64  \n",
      " 2   survived     1309 non-null   int64  \n",
      " 3   name         1309 non-null   object \n",
      " 4   sex          1309 non-null   object \n",
      " 5   age          1046 non-null   float64\n",
      " 6   sibsp        1309 non-null   int64  \n",
      " 7   parch        1309 non-null   int64  \n",
      " 8   ticket       1309 non-null   object \n",
      " 9   fare         1308 non-null   float64\n",
      " 10  cabin        295 non-null    object \n",
      " 11  embarked     1307 non-null   object \n",
      " 12  boat         486 non-null    object \n",
      " 13  body         121 non-null    float64\n",
      " 14  home.dest    745 non-null    object \n",
      "dtypes: float64(3), int64(5), object(7)\n",
      "memory usage: 153.5+ KB\n",
      "None\n"
     ]
    }
   ],
   "source": [
    "print(df.info())"
   ]
  },
  {
   "cell_type": "markdown",
   "metadata": {},
   "source": [
    "### Missing Values from the train dataset\n",
    "\n",
    "* Age,Cabin,Fare and Embarked are the columns for missing values. We will work on imputing missing field data"
   ]
  },
  {
   "cell_type": "code",
   "execution_count": 4,
   "metadata": {},
   "outputs": [
    {
     "data": {
      "text/html": [
       "<div>\n",
       "<style scoped>\n",
       "    .dataframe tbody tr th:only-of-type {\n",
       "        vertical-align: middle;\n",
       "    }\n",
       "\n",
       "    .dataframe tbody tr th {\n",
       "        vertical-align: top;\n",
       "    }\n",
       "\n",
       "    .dataframe thead th {\n",
       "        text-align: right;\n",
       "    }\n",
       "</style>\n",
       "<table border=\"1\" class=\"dataframe\">\n",
       "  <thead>\n",
       "    <tr style=\"text-align: right;\">\n",
       "      <th></th>\n",
       "      <th>passengerid</th>\n",
       "      <th>pclass</th>\n",
       "      <th>survived</th>\n",
       "      <th>age</th>\n",
       "      <th>sibsp</th>\n",
       "      <th>parch</th>\n",
       "      <th>fare</th>\n",
       "      <th>body</th>\n",
       "    </tr>\n",
       "  </thead>\n",
       "  <tbody>\n",
       "    <tr>\n",
       "      <th>count</th>\n",
       "      <td>1309.000000</td>\n",
       "      <td>1309.000000</td>\n",
       "      <td>1309.000000</td>\n",
       "      <td>1046.000000</td>\n",
       "      <td>1309.000000</td>\n",
       "      <td>1309.000000</td>\n",
       "      <td>1308.000000</td>\n",
       "      <td>121.000000</td>\n",
       "    </tr>\n",
       "    <tr>\n",
       "      <th>mean</th>\n",
       "      <td>655.000000</td>\n",
       "      <td>2.294882</td>\n",
       "      <td>0.381971</td>\n",
       "      <td>29.881135</td>\n",
       "      <td>0.498854</td>\n",
       "      <td>0.385027</td>\n",
       "      <td>33.295479</td>\n",
       "      <td>160.809917</td>\n",
       "    </tr>\n",
       "    <tr>\n",
       "      <th>std</th>\n",
       "      <td>378.020061</td>\n",
       "      <td>0.837836</td>\n",
       "      <td>0.486055</td>\n",
       "      <td>14.413500</td>\n",
       "      <td>1.041658</td>\n",
       "      <td>0.865560</td>\n",
       "      <td>51.758668</td>\n",
       "      <td>97.696922</td>\n",
       "    </tr>\n",
       "    <tr>\n",
       "      <th>min</th>\n",
       "      <td>1.000000</td>\n",
       "      <td>1.000000</td>\n",
       "      <td>0.000000</td>\n",
       "      <td>0.166700</td>\n",
       "      <td>0.000000</td>\n",
       "      <td>0.000000</td>\n",
       "      <td>0.000000</td>\n",
       "      <td>1.000000</td>\n",
       "    </tr>\n",
       "    <tr>\n",
       "      <th>25%</th>\n",
       "      <td>328.000000</td>\n",
       "      <td>2.000000</td>\n",
       "      <td>0.000000</td>\n",
       "      <td>21.000000</td>\n",
       "      <td>0.000000</td>\n",
       "      <td>0.000000</td>\n",
       "      <td>7.895800</td>\n",
       "      <td>72.000000</td>\n",
       "    </tr>\n",
       "    <tr>\n",
       "      <th>50%</th>\n",
       "      <td>655.000000</td>\n",
       "      <td>3.000000</td>\n",
       "      <td>0.000000</td>\n",
       "      <td>28.000000</td>\n",
       "      <td>0.000000</td>\n",
       "      <td>0.000000</td>\n",
       "      <td>14.454200</td>\n",
       "      <td>155.000000</td>\n",
       "    </tr>\n",
       "    <tr>\n",
       "      <th>75%</th>\n",
       "      <td>982.000000</td>\n",
       "      <td>3.000000</td>\n",
       "      <td>1.000000</td>\n",
       "      <td>39.000000</td>\n",
       "      <td>1.000000</td>\n",
       "      <td>0.000000</td>\n",
       "      <td>31.275000</td>\n",
       "      <td>256.000000</td>\n",
       "    </tr>\n",
       "    <tr>\n",
       "      <th>max</th>\n",
       "      <td>1309.000000</td>\n",
       "      <td>3.000000</td>\n",
       "      <td>1.000000</td>\n",
       "      <td>80.000000</td>\n",
       "      <td>8.000000</td>\n",
       "      <td>9.000000</td>\n",
       "      <td>512.329200</td>\n",
       "      <td>328.000000</td>\n",
       "    </tr>\n",
       "  </tbody>\n",
       "</table>\n",
       "</div>"
      ],
      "text/plain": [
       "       passengerid       pclass     survived          age        sibsp  \\\n",
       "count  1309.000000  1309.000000  1309.000000  1046.000000  1309.000000   \n",
       "mean    655.000000     2.294882     0.381971    29.881135     0.498854   \n",
       "std     378.020061     0.837836     0.486055    14.413500     1.041658   \n",
       "min       1.000000     1.000000     0.000000     0.166700     0.000000   \n",
       "25%     328.000000     2.000000     0.000000    21.000000     0.000000   \n",
       "50%     655.000000     3.000000     0.000000    28.000000     0.000000   \n",
       "75%     982.000000     3.000000     1.000000    39.000000     1.000000   \n",
       "max    1309.000000     3.000000     1.000000    80.000000     8.000000   \n",
       "\n",
       "             parch         fare        body  \n",
       "count  1309.000000  1308.000000  121.000000  \n",
       "mean      0.385027    33.295479  160.809917  \n",
       "std       0.865560    51.758668   97.696922  \n",
       "min       0.000000     0.000000    1.000000  \n",
       "25%       0.000000     7.895800   72.000000  \n",
       "50%       0.000000    14.454200  155.000000  \n",
       "75%       0.000000    31.275000  256.000000  \n",
       "max       9.000000   512.329200  328.000000  "
      ]
     },
     "execution_count": 4,
     "metadata": {},
     "output_type": "execute_result"
    }
   ],
   "source": [
    "df.describe()"
   ]
  },
  {
   "cell_type": "markdown",
   "metadata": {},
   "source": [
    "* We see the average Age of the passengers is 29.88"
   ]
  },
  {
   "cell_type": "markdown",
   "metadata": {},
   "source": [
    "### Feature Engineering\n",
    "\n",
    "* Name - categorize passengers through the titles in the name to see is there is any relationship between name and survival"
   ]
  },
  {
   "cell_type": "code",
   "execution_count": 5,
   "metadata": {},
   "outputs": [
    {
     "data": {
      "text/html": [
       "<div>\n",
       "<style scoped>\n",
       "    .dataframe tbody tr th:only-of-type {\n",
       "        vertical-align: middle;\n",
       "    }\n",
       "\n",
       "    .dataframe tbody tr th {\n",
       "        vertical-align: top;\n",
       "    }\n",
       "\n",
       "    .dataframe thead th {\n",
       "        text-align: right;\n",
       "    }\n",
       "</style>\n",
       "<table border=\"1\" class=\"dataframe\">\n",
       "  <thead>\n",
       "    <tr style=\"text-align: right;\">\n",
       "      <th>Title</th>\n",
       "      <th>Capt</th>\n",
       "      <th>Col</th>\n",
       "      <th>Don</th>\n",
       "      <th>Dona</th>\n",
       "      <th>Dr</th>\n",
       "      <th>Jonkheer</th>\n",
       "      <th>Lady</th>\n",
       "      <th>Major</th>\n",
       "      <th>Master</th>\n",
       "      <th>Miss</th>\n",
       "      <th>Mlle</th>\n",
       "      <th>Mme</th>\n",
       "      <th>Mr</th>\n",
       "      <th>Mrs</th>\n",
       "      <th>Ms</th>\n",
       "      <th>Rev</th>\n",
       "      <th>Sir</th>\n",
       "      <th>the Countess</th>\n",
       "    </tr>\n",
       "    <tr>\n",
       "      <th>sex</th>\n",
       "      <th></th>\n",
       "      <th></th>\n",
       "      <th></th>\n",
       "      <th></th>\n",
       "      <th></th>\n",
       "      <th></th>\n",
       "      <th></th>\n",
       "      <th></th>\n",
       "      <th></th>\n",
       "      <th></th>\n",
       "      <th></th>\n",
       "      <th></th>\n",
       "      <th></th>\n",
       "      <th></th>\n",
       "      <th></th>\n",
       "      <th></th>\n",
       "      <th></th>\n",
       "      <th></th>\n",
       "    </tr>\n",
       "  </thead>\n",
       "  <tbody>\n",
       "    <tr>\n",
       "      <th>female</th>\n",
       "      <td>0</td>\n",
       "      <td>0</td>\n",
       "      <td>0</td>\n",
       "      <td>1</td>\n",
       "      <td>1</td>\n",
       "      <td>0</td>\n",
       "      <td>1</td>\n",
       "      <td>0</td>\n",
       "      <td>0</td>\n",
       "      <td>260</td>\n",
       "      <td>2</td>\n",
       "      <td>1</td>\n",
       "      <td>0</td>\n",
       "      <td>197</td>\n",
       "      <td>2</td>\n",
       "      <td>0</td>\n",
       "      <td>0</td>\n",
       "      <td>1</td>\n",
       "    </tr>\n",
       "    <tr>\n",
       "      <th>male</th>\n",
       "      <td>1</td>\n",
       "      <td>4</td>\n",
       "      <td>1</td>\n",
       "      <td>0</td>\n",
       "      <td>7</td>\n",
       "      <td>1</td>\n",
       "      <td>0</td>\n",
       "      <td>2</td>\n",
       "      <td>61</td>\n",
       "      <td>0</td>\n",
       "      <td>0</td>\n",
       "      <td>0</td>\n",
       "      <td>757</td>\n",
       "      <td>0</td>\n",
       "      <td>0</td>\n",
       "      <td>8</td>\n",
       "      <td>1</td>\n",
       "      <td>0</td>\n",
       "    </tr>\n",
       "  </tbody>\n",
       "</table>\n",
       "</div>"
      ],
      "text/plain": [
       "Title   Capt  Col  Don  Dona  Dr  Jonkheer  Lady  Major  Master  Miss  Mlle  \\\n",
       "sex                                                                           \n",
       "female     0    0    0     1   1         0     1      0       0   260     2   \n",
       "male       1    4    1     0   7         1     0      2      61     0     0   \n",
       "\n",
       "Title   Mme   Mr  Mrs  Ms  Rev  Sir  the Countess  \n",
       "sex                                                \n",
       "female    1    0  197   2    0    0             1  \n",
       "male      0  757    0   0    8    1             0  "
      ]
     },
     "execution_count": 5,
     "metadata": {},
     "output_type": "execute_result"
    }
   ],
   "source": [
    "#grab the tittle from passenger name\n",
    "def title(name):\n",
    "    start = name.find(',')\n",
    "    end = name.find('.')\n",
    "    return name[start+2:end]\n",
    "\n",
    "\n",
    "df['Title'] = df.name.map(title)\n",
    "\n",
    "#show title count by sex\n",
    "pd.crosstab(df.sex,df.Title)"
   ]
  },
  {
   "cell_type": "code",
   "execution_count": 6,
   "metadata": {},
   "outputs": [
    {
     "data": {
      "text/html": [
       "<div>\n",
       "<style scoped>\n",
       "    .dataframe tbody tr th:only-of-type {\n",
       "        vertical-align: middle;\n",
       "    }\n",
       "\n",
       "    .dataframe tbody tr th {\n",
       "        vertical-align: top;\n",
       "    }\n",
       "\n",
       "    .dataframe thead th {\n",
       "        text-align: right;\n",
       "    }\n",
       "</style>\n",
       "<table border=\"1\" class=\"dataframe\">\n",
       "  <thead>\n",
       "    <tr style=\"text-align: right;\">\n",
       "      <th>Title</th>\n",
       "      <th>Master</th>\n",
       "      <th>Miss</th>\n",
       "      <th>Mr</th>\n",
       "      <th>Mrs</th>\n",
       "      <th>Rare_Title</th>\n",
       "    </tr>\n",
       "    <tr>\n",
       "      <th>sex</th>\n",
       "      <th></th>\n",
       "      <th></th>\n",
       "      <th></th>\n",
       "      <th></th>\n",
       "      <th></th>\n",
       "    </tr>\n",
       "  </thead>\n",
       "  <tbody>\n",
       "    <tr>\n",
       "      <th>female</th>\n",
       "      <td>0</td>\n",
       "      <td>264</td>\n",
       "      <td>0</td>\n",
       "      <td>198</td>\n",
       "      <td>4</td>\n",
       "    </tr>\n",
       "    <tr>\n",
       "      <th>male</th>\n",
       "      <td>61</td>\n",
       "      <td>0</td>\n",
       "      <td>757</td>\n",
       "      <td>0</td>\n",
       "      <td>25</td>\n",
       "    </tr>\n",
       "  </tbody>\n",
       "</table>\n",
       "</div>"
      ],
      "text/plain": [
       "Title   Master  Miss   Mr  Mrs  Rare_Title\n",
       "sex                                       \n",
       "female       0   264    0  198           4\n",
       "male        61     0  757    0          25"
      ]
     },
     "execution_count": 6,
     "metadata": {},
     "output_type": "execute_result"
    }
   ],
   "source": [
    "# Titles with very low cell counts to be combined to \"rare\" level\n",
    "\n",
    "rare_title = ['Dona', 'Lady', 'the Countess','Capt', 'Col', 'Don', \n",
    "                'Dr', 'Major', 'Rev', 'Sir', 'Jonkheer']\n",
    "\n",
    "# Also reassign mlle, ms, and mme accordingly\n",
    "df.loc[:,\"Title\"] = df[\"Title\"].map(lambda x: x if x not in rare_title else 'Rare_Title')\n",
    "df.loc[df.Title == 'Mlle',\"Title\"] = 'Miss'\n",
    "df.loc[df.Title == 'Ms',\"Title\"] = 'Miss'\n",
    "df.loc[df.Title == 'Mme',\"Title\"] = 'Mrs'\n",
    "\n",
    "# Show title counts by sex again\n",
    "Title_df = pd.crosstab(df.sex,df.Title)\n",
    "Title_df"
   ]
  },
  {
   "cell_type": "code",
   "execution_count": 7,
   "metadata": {},
   "outputs": [
    {
     "data": {
      "text/plain": [
       "'<table border=\"1\" class=\"dataframe\">\\n  <thead>\\n    <tr style=\"text-align: right;\">\\n      <th>Title</th>\\n      <th>Master</th>\\n      <th>Miss</th>\\n      <th>Mr</th>\\n      <th>Mrs</th>\\n      <th>Rare_Title</th>\\n    </tr>\\n    <tr>\\n      <th>sex</th>\\n      <th></th>\\n      <th></th>\\n      <th></th>\\n      <th></th>\\n      <th></th>\\n    </tr>\\n  </thead>\\n  <tbody>\\n    <tr>\\n      <th>female</th>\\n      <td>0</td>\\n      <td>264</td>\\n      <td>0</td>\\n      <td>198</td>\\n      <td>4</td>\\n    </tr>\\n    <tr>\\n      <th>male</th>\\n      <td>61</td>\\n      <td>0</td>\\n      <td>757</td>\\n      <td>0</td>\\n      <td>25</td>\\n    </tr>\\n  </tbody>\\n</table>'"
      ]
     },
     "execution_count": 7,
     "metadata": {},
     "output_type": "execute_result"
    }
   ],
   "source": [
    "Title_df.to_html()"
   ]
  },
  {
   "cell_type": "code",
   "execution_count": 8,
   "metadata": {},
   "outputs": [
    {
     "data": {
      "text/html": [
       "<div>\n",
       "<style scoped>\n",
       "    .dataframe tbody tr th:only-of-type {\n",
       "        vertical-align: middle;\n",
       "    }\n",
       "\n",
       "    .dataframe tbody tr th {\n",
       "        vertical-align: top;\n",
       "    }\n",
       "\n",
       "    .dataframe thead th {\n",
       "        text-align: right;\n",
       "    }\n",
       "</style>\n",
       "<table border=\"1\" class=\"dataframe\">\n",
       "  <thead>\n",
       "    <tr style=\"text-align: right;\">\n",
       "      <th></th>\n",
       "      <th>passengerid</th>\n",
       "      <th>pclass</th>\n",
       "      <th>survived</th>\n",
       "      <th>name</th>\n",
       "      <th>sex</th>\n",
       "      <th>age</th>\n",
       "      <th>sibsp</th>\n",
       "      <th>parch</th>\n",
       "      <th>ticket</th>\n",
       "      <th>fare</th>\n",
       "      <th>cabin</th>\n",
       "      <th>embarked</th>\n",
       "      <th>boat</th>\n",
       "      <th>body</th>\n",
       "      <th>home.dest</th>\n",
       "      <th>Title</th>\n",
       "    </tr>\n",
       "  </thead>\n",
       "  <tbody>\n",
       "    <tr>\n",
       "      <th>0</th>\n",
       "      <td>1</td>\n",
       "      <td>1</td>\n",
       "      <td>1</td>\n",
       "      <td>Allen, Miss. Elisabeth Walton</td>\n",
       "      <td>female</td>\n",
       "      <td>29.0</td>\n",
       "      <td>0</td>\n",
       "      <td>0</td>\n",
       "      <td>24160</td>\n",
       "      <td>211.3375</td>\n",
       "      <td>B5</td>\n",
       "      <td>S</td>\n",
       "      <td>2</td>\n",
       "      <td>NaN</td>\n",
       "      <td>St Louis, MO</td>\n",
       "      <td>Miss</td>\n",
       "    </tr>\n",
       "  </tbody>\n",
       "</table>\n",
       "</div>"
      ],
      "text/plain": [
       "   passengerid  pclass  survived                           name     sex   age  \\\n",
       "0            1       1         1  Allen, Miss. Elisabeth Walton  female  29.0   \n",
       "\n",
       "   sibsp  parch ticket      fare cabin embarked boat  body     home.dest Title  \n",
       "0      0      0  24160  211.3375    B5        S    2   NaN  St Louis, MO  Miss  "
      ]
     },
     "execution_count": 8,
     "metadata": {},
     "output_type": "execute_result"
    }
   ],
   "source": [
    "df.head(1)"
   ]
  },
  {
   "cell_type": "markdown",
   "metadata": {},
   "source": [
    "### SibSp and Parch:\n",
    "\n",
    "* SibSp and Parch would make more sense as a combined feature, that shows the total number of relatives, a person has on the Titanic. I will create it below and also a feature that shows if someone is not alone."
   ]
  },
  {
   "cell_type": "code",
   "execution_count": 9,
   "metadata": {},
   "outputs": [
    {
     "data": {
      "text/plain": [
       "1    790\n",
       "0    519\n",
       "Name: not_alone, dtype: int64"
      ]
     },
     "execution_count": 9,
     "metadata": {},
     "output_type": "execute_result"
    }
   ],
   "source": [
    "data = [df]\n",
    "\n",
    "for dataset in data:\n",
    "    dataset['relatives'] = dataset['sibsp'] + dataset['parch']\n",
    "    dataset.loc[dataset['relatives'] > 0, 'not_alone'] = 0\n",
    "    dataset.loc[dataset['relatives'] == 0, 'not_alone'] = 1\n",
    "    dataset['not_alone'] = dataset['not_alone'].astype('int64')\n",
    "\n",
    "df['not_alone'].value_counts()"
   ]
  },
  {
   "cell_type": "code",
   "execution_count": 10,
   "metadata": {},
   "outputs": [
    {
     "data": {
      "text/html": [
       "<div>\n",
       "<style scoped>\n",
       "    .dataframe tbody tr th:only-of-type {\n",
       "        vertical-align: middle;\n",
       "    }\n",
       "\n",
       "    .dataframe tbody tr th {\n",
       "        vertical-align: top;\n",
       "    }\n",
       "\n",
       "    .dataframe thead th {\n",
       "        text-align: right;\n",
       "    }\n",
       "</style>\n",
       "<table border=\"1\" class=\"dataframe\">\n",
       "  <thead>\n",
       "    <tr style=\"text-align: right;\">\n",
       "      <th></th>\n",
       "      <th>passengerid</th>\n",
       "      <th>pclass</th>\n",
       "      <th>survived</th>\n",
       "      <th>name</th>\n",
       "      <th>sex</th>\n",
       "      <th>age</th>\n",
       "      <th>sibsp</th>\n",
       "      <th>parch</th>\n",
       "      <th>ticket</th>\n",
       "      <th>fare</th>\n",
       "      <th>cabin</th>\n",
       "      <th>embarked</th>\n",
       "      <th>boat</th>\n",
       "      <th>body</th>\n",
       "      <th>home.dest</th>\n",
       "      <th>Title</th>\n",
       "      <th>relatives</th>\n",
       "      <th>not_alone</th>\n",
       "    </tr>\n",
       "  </thead>\n",
       "  <tbody>\n",
       "    <tr>\n",
       "      <th>0</th>\n",
       "      <td>1</td>\n",
       "      <td>1</td>\n",
       "      <td>1</td>\n",
       "      <td>Allen, Miss. Elisabeth Walton</td>\n",
       "      <td>female</td>\n",
       "      <td>29.0</td>\n",
       "      <td>0</td>\n",
       "      <td>0</td>\n",
       "      <td>24160</td>\n",
       "      <td>211.3375</td>\n",
       "      <td>B5</td>\n",
       "      <td>S</td>\n",
       "      <td>2</td>\n",
       "      <td>NaN</td>\n",
       "      <td>St Louis, MO</td>\n",
       "      <td>Miss</td>\n",
       "      <td>0</td>\n",
       "      <td>1</td>\n",
       "    </tr>\n",
       "  </tbody>\n",
       "</table>\n",
       "</div>"
      ],
      "text/plain": [
       "   passengerid  pclass  survived                           name     sex   age  \\\n",
       "0            1       1         1  Allen, Miss. Elisabeth Walton  female  29.0   \n",
       "\n",
       "   sibsp  parch ticket      fare cabin embarked boat  body     home.dest  \\\n",
       "0      0      0  24160  211.3375    B5        S    2   NaN  St Louis, MO   \n",
       "\n",
       "  Title  relatives  not_alone  \n",
       "0  Miss          0          1  "
      ]
     },
     "execution_count": 10,
     "metadata": {},
     "output_type": "execute_result"
    }
   ],
   "source": [
    "df.head(1)"
   ]
  },
  {
   "cell_type": "code",
   "execution_count": 11,
   "metadata": {},
   "outputs": [
    {
     "data": {
      "image/png": "[encoded data removed]",
      "text/plain": [
       "<Figure size 900x360 with 1 Axes>"
      ]
     },
     "metadata": {
      "needs_background": "light"
     },
     "output_type": "display_data"
    },
    {
     "data": {
      "text/plain": [
       "<Figure size 432x288 with 0 Axes>"
      ]
     },
     "metadata": {},
     "output_type": "display_data"
    }
   ],
   "source": [
    "axes = sns.factorplot('relatives','survived', \n",
    "                      data=df, aspect = 2.5, )\n",
    "\n",
    "plt.show()\n",
    "plt.savefig('img/FamilySizeAndSurvival.png')"
   ]
  },
  {
   "cell_type": "markdown",
   "metadata": {},
   "source": [
    "* Here we can see that you had a high probabilty of survival with 1 to 3 realitves, but a lower one if you had less than 1 or more than 3 (except for some cases with 6 relatives)."
   ]
  },
  {
   "cell_type": "markdown",
   "metadata": {},
   "source": [
    "* We can see that there’s a survival penalty to singletons and those with family sizes above 4. We can collapse this variable into three levels which will be helpful since there are comparatively fewer large families. Let’s create a discretized family size variable."
   ]
  },
  {
   "cell_type": "markdown",
   "metadata": {},
   "source": [
    "* There seems to be a survival penalty among singletons and large families, but a benefit for passengers in small families. I want to do something further with our age variable, but 263 rows have missing age values, so we will have to wait until after we address missingness."
   ]
  },
  {
   "cell_type": "markdown",
   "metadata": {},
   "source": [
    "### PClass"
   ]
  },
  {
   "cell_type": "code",
   "execution_count": 12,
   "metadata": {},
   "outputs": [
    {
     "data": {
      "image/png": "[encoded data removed]",
      "text/plain": [
       "<Figure size 432x288 with 1 Axes>"
      ]
     },
     "metadata": {
      "needs_background": "light"
     },
     "output_type": "display_data"
    },
    {
     "data": {
      "text/plain": [
       "<Figure size 432x288 with 0 Axes>"
      ]
     },
     "metadata": {},
     "output_type": "display_data"
    }
   ],
   "source": [
    "sns.barplot(x='pclass', y='survived', data=df)\n",
    "plt.show()\n",
    "plt.savefig('img/PassengerClassAndSurvival.png')"
   ]
  },
  {
   "cell_type": "markdown",
   "metadata": {},
   "source": [
    "* Here we see clearly, that Pclass is contributing to a persons chance of survival, especially if this person is in class 1. We will create another pclass plot below."
   ]
  },
  {
   "cell_type": "markdown",
   "metadata": {},
   "source": [
    "### Missing Values\n",
    "\n",
    "* Cabin (687), \n",
    "* Embarked (2) and \n",
    "* Age (177)\n",
    "* Fare (1)"
   ]
  },
  {
   "cell_type": "markdown",
   "metadata": {},
   "source": [
    "#### Fare -\n",
    "Passengerid 1226 has an NA Fare value."
   ]
  },
  {
   "cell_type": "code",
   "execution_count": 13,
   "metadata": {},
   "outputs": [
    {
     "data": {
      "text/plain": [
       "passengerid                  1226\n",
       "pclass                          3\n",
       "survived                        0\n",
       "name           Storey, Mr. Thomas\n",
       "sex                          male\n",
       "age                          60.5\n",
       "sibsp                           0\n",
       "parch                           0\n",
       "ticket                       3701\n",
       "fare                          NaN\n",
       "cabin                         NaN\n",
       "embarked                        S\n",
       "boat                          NaN\n",
       "body                          261\n",
       "home.dest                     NaN\n",
       "Title                          Mr\n",
       "relatives                       0\n",
       "not_alone                       1\n",
       "Name: 1225, dtype: object"
      ]
     },
     "execution_count": 13,
     "metadata": {},
     "output_type": "execute_result"
    }
   ],
   "source": [
    "df.iloc[1225]"
   ]
  },
  {
   "cell_type": "markdown",
   "metadata": {},
   "source": [
    "* Mr.Storey is a third class passenger who embarked from Southampton (‘S’). Let’s visualize Fares among all others sharing their class and embarkment (n = 494)."
   ]
  },
  {
   "cell_type": "code",
   "execution_count": 14,
   "metadata": {},
   "outputs": [
    {
     "data": {
      "image/png": "[encoded data removed]",
      "text/plain": [
       "<Figure size 576x432 with 1 Axes>"
      ]
     },
     "metadata": {
      "needs_background": "light"
     },
     "output_type": "display_data"
    },
    {
     "data": {
      "text/plain": [
       "<Figure size 432x288 with 0 Axes>"
      ]
     },
     "metadata": {},
     "output_type": "display_data"
    }
   ],
   "source": [
    "fig,ax = plt.subplots(figsize=(8,6))\n",
    "distp = sns.distplot(df.loc[(df.pclass == 3) & (df.embarked == 'S'),'fare'])\n",
    "line = ax.axvline(x=np.nanmedian(df.loc[(df.pclass == 3) & (df.embarked == 'S'),'fare']),color='r', linestyle='--')\n",
    "plt.ylabel('Density')\n",
    "\n",
    "plt.show()\n",
    "plt.savefig('img/FarePlot')"
   ]
  },
  {
   "cell_type": "markdown",
   "metadata": {},
   "source": [
    "* the visualization shows that the fare would be somewhere greater than 7 and less than 10, this adds another filter to calculate mean. post appling all three filters we get the mean of 8.03. Which will be replaced by nan value in Mr.Storey's fare!"
   ]
  },
  {
   "cell_type": "code",
   "execution_count": 15,
   "metadata": {},
   "outputs": [],
   "source": [
    "df.iloc[1225,9] = 8.03"
   ]
  },
  {
   "cell_type": "markdown",
   "metadata": {},
   "source": [
    "#### Embarked - \n",
    "* Passengers with passengerId 62 and 830 are missing Embarkment\n",
    "* Known information - passenger class and fare. We see that they paid 80 and their classes are 1. So from where did they embark?"
   ]
  },
  {
   "cell_type": "code",
   "execution_count": 16,
   "metadata": {},
   "outputs": [
    {
     "data": {
      "image/png": "[encoded data removed]",
      "text/plain": [
       "<Figure size 576x432 with 1 Axes>"
      ]
     },
     "metadata": {
      "needs_background": "light"
     },
     "output_type": "display_data"
    },
    {
     "data": {
      "text/plain": [
       "<Figure size 432x288 with 0 Axes>"
      ]
     },
     "metadata": {},
     "output_type": "display_data"
    }
   ],
   "source": [
    "# Get rid of our missing passenger IDs\n",
    "\n",
    "embark_fare = df[(df.passengerid!=62) & (df.passengerid != 830)]\n",
    "fig,ax = plt.subplots(figsize=(8,6))\n",
    "b = sns.boxplot(x='embarked',y='fare',hue='pclass',data=df)\n",
    "line = ax.axhline(y=80, color='r', linestyle='--')\n",
    "\n",
    "plt.show()\n",
    "plt.savefig('img/MissingEmbarkment.png')\n"
   ]
  },
  {
   "cell_type": "markdown",
   "metadata": {},
   "source": [
    "* The median fare for a first class passenger departing from Charbourg (‘C’) coincides nicely with the $80 paid by our embarkment-deficient passengers. I think we can safely replace the NA values with ‘C’."
   ]
  },
  {
   "cell_type": "code",
   "execution_count": 17,
   "metadata": {},
   "outputs": [],
   "source": [
    "# Since their fare was $80 for 1st class, they most likely embarked from 'C'\n",
    "df.loc[[62,829],'embarked'] = 'C'"
   ]
  },
  {
   "cell_type": "markdown",
   "metadata": {},
   "source": [
    "#### Age - will be imputed by using SimpleImputer. It is a scikit-learn class which is helpful in handling the missing data in the predictive model dataset."
   ]
  },
  {
   "cell_type": "code",
   "execution_count": 18,
   "metadata": {},
   "outputs": [],
   "source": [
    "from sklearn.impute import SimpleImputer\n",
    "import numpy as np\n",
    "from matplotlib import pyplot as plt \n",
    "\n",
    "imp_mean = SimpleImputer(missing_values=np.nan, strategy='mean')\n",
    "imp_mean.fit(df['age'].values.reshape(-1, 1))\n",
    "df['age'] = imp_mean.transform(df['age'].values.reshape(-1, 1))"
   ]
  },
  {
   "cell_type": "markdown",
   "metadata": {},
   "source": [
    "#### Cabin - for categorical variable Deck I will populate it with the most frequent item in the column."
   ]
  },
  {
   "cell_type": "code",
   "execution_count": null,
   "metadata": {},
   "outputs": [],
   "source": [
    "# def Deck(cabin):\n",
    "#     if not cabin or pd.isnull(cabin):\n",
    "#         return 'N'\n",
    "#     else:\n",
    "#         return cabin[0]\n",
    "\n",
    "# df['Deck'] = df.cabin.map(Deck)\n",
    "# #df['Deck'] = df['Deck'].astype(str)"
   ]
  },
  {
   "cell_type": "code",
   "execution_count": null,
   "metadata": {},
   "outputs": [],
   "source": [
    "# imp_freq = SimpleImputer(missing_values='N', strategy='most_frequent')\n",
    "# imp_freq.fit(df['Deck'].values.reshape(-1, 1))\n",
    "# df['Deck'] = imp_freq.transform(df['Deck'].values.reshape(-1, 1))"
   ]
  },
  {
   "cell_type": "code",
   "execution_count": 19,
   "metadata": {},
   "outputs": [
    {
     "name": "stdout",
     "output_type": "stream",
     "text": [
      "<class 'pandas.core.frame.DataFrame'>\n",
      "RangeIndex: 1309 entries, 0 to 1308\n",
      "Data columns (total 18 columns):\n",
      " #   Column       Non-Null Count  Dtype  \n",
      "---  ------       --------------  -----  \n",
      " 0   passengerid  1309 non-null   int64  \n",
      " 1   pclass       1309 non-null   int64  \n",
      " 2   survived     1309 non-null   int64  \n",
      " 3   name         1309 non-null   object \n",
      " 4   sex          1309 non-null   object \n",
      " 5   age          1309 non-null   float64\n",
      " 6   sibsp        1309 non-null   int64  \n",
      " 7   parch        1309 non-null   int64  \n",
      " 8   ticket       1309 non-null   object \n",
      " 9   fare         1309 non-null   float64\n",
      " 10  cabin        295 non-null    object \n",
      " 11  embarked     1307 non-null   object \n",
      " 12  boat         486 non-null    object \n",
      " 13  body         121 non-null    float64\n",
      " 14  home.dest    745 non-null    object \n",
      " 15  Title        1309 non-null   object \n",
      " 16  relatives    1309 non-null   int64  \n",
      " 17  not_alone    1309 non-null   int64  \n",
      "dtypes: float64(3), int64(7), object(8)\n",
      "memory usage: 184.2+ KB\n"
     ]
    }
   ],
   "source": [
    "df.info()"
   ]
  },
  {
   "cell_type": "markdown",
   "metadata": {},
   "source": [
    "### Converting Features\n",
    "\n",
    "* convert Age and Fare into int\n",
    "* categorical features: Title,Sex,Ticket,Deck and Embarked\n",
    "* dropping unwanted columns passengerid, name, boat, body,home.dest, cabin"
   ]
  },
  {
   "cell_type": "code",
   "execution_count": 20,
   "metadata": {},
   "outputs": [],
   "source": [
    "df['age'] = df['age'].astype('int64')"
   ]
  },
  {
   "cell_type": "code",
   "execution_count": 21,
   "metadata": {},
   "outputs": [],
   "source": [
    "df['fare'] = df['fare'].astype('int64')"
   ]
  },
  {
   "cell_type": "code",
   "execution_count": 22,
   "metadata": {},
   "outputs": [
    {
     "name": "stdout",
     "output_type": "stream",
     "text": [
      "<class 'pandas.core.frame.DataFrame'>\n",
      "RangeIndex: 1309 entries, 0 to 1308\n",
      "Data columns (total 18 columns):\n",
      " #   Column       Non-Null Count  Dtype  \n",
      "---  ------       --------------  -----  \n",
      " 0   passengerid  1309 non-null   int64  \n",
      " 1   pclass       1309 non-null   int64  \n",
      " 2   survived     1309 non-null   int64  \n",
      " 3   name         1309 non-null   object \n",
      " 4   sex          1309 non-null   object \n",
      " 5   age          1309 non-null   int64  \n",
      " 6   sibsp        1309 non-null   int64  \n",
      " 7   parch        1309 non-null   int64  \n",
      " 8   ticket       1309 non-null   object \n",
      " 9   fare         1309 non-null   int64  \n",
      " 10  cabin        295 non-null    object \n",
      " 11  embarked     1307 non-null   object \n",
      " 12  boat         486 non-null    object \n",
      " 13  body         121 non-null    float64\n",
      " 14  home.dest    745 non-null    object \n",
      " 15  Title        1309 non-null   object \n",
      " 16  relatives    1309 non-null   int64  \n",
      " 17  not_alone    1309 non-null   int64  \n",
      "dtypes: float64(1), int64(9), object(8)\n",
      "memory usage: 184.2+ KB\n"
     ]
    }
   ],
   "source": [
    "df.info()"
   ]
  },
  {
   "cell_type": "markdown",
   "metadata": {},
   "source": [
    "#### Deck"
   ]
  },
  {
   "cell_type": "code",
   "execution_count": null,
   "metadata": {},
   "outputs": [],
   "source": [
    "# deck = {\"A\": 1, \"B\": 2, \"C\": 3, \"D\": 4, \"E\": 5, \"F\": 6, \"G\": 7, \"N\": 8}\n",
    "# data = [df]\n",
    "\n",
    "# for d in data:\n",
    "#     d['Deck']=d['Deck'].map(deck)\n",
    "\n",
    "# df['Deck']"
   ]
  },
  {
   "cell_type": "code",
   "execution_count": 23,
   "metadata": {},
   "outputs": [],
   "source": [
    "# df['Deck'] = df['Deck'].astype('int64')"
   ]
  },
  {
   "cell_type": "markdown",
   "metadata": {},
   "source": [
    "#### Titles"
   ]
  },
  {
   "cell_type": "code",
   "execution_count": 24,
   "metadata": {},
   "outputs": [],
   "source": [
    "data = [df]\n",
    "titles = {\"Mr\": 1, \"Miss\": 2, \"Mrs\": 3, \"Master\": 4, \"Rare_Title\": 5}\n",
    "\n",
    "for d in data:\n",
    "    d['Title'] = d['Title'].map(titles)"
   ]
  },
  {
   "cell_type": "markdown",
   "metadata": {},
   "source": [
    "#### Gender"
   ]
  },
  {
   "cell_type": "code",
   "execution_count": 25,
   "metadata": {},
   "outputs": [],
   "source": [
    "genders = {\"male\": 0, \"female\": 1}\n",
    "data = [df]\n",
    "\n",
    "for dataset in data:\n",
    "    dataset['sex'] = dataset['sex'].map(genders)"
   ]
  },
  {
   "cell_type": "markdown",
   "metadata": {},
   "source": [
    "#### Ticket"
   ]
  },
  {
   "cell_type": "code",
   "execution_count": 26,
   "metadata": {},
   "outputs": [
    {
     "data": {
      "text/plain": [
       "count         1309\n",
       "unique         939\n",
       "top       CA. 2343\n",
       "freq            11\n",
       "Name: ticket, dtype: object"
      ]
     },
     "execution_count": 26,
     "metadata": {},
     "output_type": "execute_result"
    }
   ],
   "source": [
    "df['ticket'].describe()"
   ]
  },
  {
   "cell_type": "code",
   "execution_count": 27,
   "metadata": {},
   "outputs": [],
   "source": [
    "df = df.drop(['ticket'], axis=1)"
   ]
  },
  {
   "cell_type": "markdown",
   "metadata": {},
   "source": [
    "#### Embarked"
   ]
  },
  {
   "cell_type": "code",
   "execution_count": 28,
   "metadata": {},
   "outputs": [],
   "source": [
    "ports = {\"S\": 0, \"C\": 1, \"Q\": 2}\n",
    "data = [df]\n",
    "\n",
    "for dataset in data:\n",
    "    dataset['embarked'] = dataset['embarked'].map(ports)\n",
    "\n",
    "df['embarked'] = df['embarked'].fillna(0)\n",
    "df['embarked'] = df['embarked'].astype('int64')"
   ]
  },
  {
   "cell_type": "markdown",
   "metadata": {},
   "source": [
    "#### Age"
   ]
  },
  {
   "cell_type": "code",
   "execution_count": 29,
   "metadata": {},
   "outputs": [
    {
     "data": {
      "text/plain": [
       "4    442\n",
       "6    224\n",
       "3    170\n",
       "5    139\n",
       "2    138\n",
       "1    105\n",
       "0     91\n",
       "Name: age, dtype: int64"
      ]
     },
     "execution_count": 29,
     "metadata": {},
     "output_type": "execute_result"
    }
   ],
   "source": [
    "data = [df]\n",
    "for dataset in data:\n",
    "    \n",
    "    dataset.loc[ dataset['age'] <= 11, 'age'] = 0\n",
    "    dataset.loc[(dataset['age'] > 11) & (dataset['age'] <= 18), 'age'] = 1\n",
    "    dataset.loc[(dataset['age'] > 18) & (dataset['age'] <= 22), 'age'] = 2\n",
    "    dataset.loc[(dataset['age'] > 22) & (dataset['age'] <= 27), 'age'] = 3\n",
    "    dataset.loc[(dataset['age'] > 27) & (dataset['age'] <= 33), 'age'] = 4\n",
    "    dataset.loc[(dataset['age'] > 33) & (dataset['age'] <= 40), 'age'] = 5\n",
    "    dataset.loc[(dataset['age'] > 40) & (dataset['age'] <= 66), 'age'] = 6\n",
    "    dataset.loc[ dataset['age'] > 66, 'age'] = 6\n",
    "\n",
    "df['age'].value_counts()"
   ]
  },
  {
   "cell_type": "markdown",
   "metadata": {},
   "source": [
    "#### Fare:\n",
    "* For the ‘Fare’ feature, we need to do the same as with the ‘Age’ feature. But it isn’t that easy, because if we cut the range of the fare values into a few equally big categories, 80% of the values would fall into the first category. Fortunately, we can use sklearn “qcut()” function, that we can use to see, how we can form the categories."
   ]
  },
  {
   "cell_type": "code",
   "execution_count": 30,
   "metadata": {},
   "outputs": [
    {
     "data": {
      "text/plain": [
       "0    360\n",
       "2    325\n",
       "1    313\n",
       "3    227\n",
       "4     67\n",
       "5     17\n",
       "Name: fare, dtype: int64"
      ]
     },
     "execution_count": 30,
     "metadata": {},
     "output_type": "execute_result"
    }
   ],
   "source": [
    "data = [df]\n",
    "\n",
    "for dataset in data:\n",
    "    dataset.loc[ dataset['fare'] <= 7.91, 'fare'] = 0\n",
    "    dataset.loc[(dataset['fare'] > 7.91) & (dataset['fare'] <= 14.454), 'fare'] = 1\n",
    "    dataset.loc[(dataset['fare'] > 14.454) & (dataset['fare'] <= 31), 'fare']   = 2\n",
    "    dataset.loc[(dataset['fare'] > 31) & (dataset['fare'] <= 99), 'fare']   = 3\n",
    "    dataset.loc[(dataset['fare'] > 99) & (dataset['fare'] <= 250), 'fare']   = 4\n",
    "    dataset.loc[ dataset['fare'] > 250, 'fare'] = 5\n",
    "\n",
    "df['fare'].value_counts()"
   ]
  },
  {
   "cell_type": "markdown",
   "metadata": {},
   "source": [
    "### Prediction"
   ]
  },
  {
   "cell_type": "code",
   "execution_count": 33,
   "metadata": {},
   "outputs": [],
   "source": [
    "# dropping columns not needed\n",
    "df = df.drop(['name','cabin','passengerid'],axis=1)\n",
    "# df = df.drop(['boat','body','home.dest'],axis=1)\n",
    "#df = df.drop(['Deck'],axis=1)"
   ]
  },
  {
   "cell_type": "code",
   "execution_count": 34,
   "metadata": {},
   "outputs": [
    {
     "name": "stdout",
     "output_type": "stream",
     "text": [
      "<class 'pandas.core.frame.DataFrame'>\n",
      "RangeIndex: 1309 entries, 0 to 1308\n",
      "Data columns (total 11 columns):\n",
      " #   Column     Non-Null Count  Dtype\n",
      "---  ------     --------------  -----\n",
      " 0   pclass     1309 non-null   int64\n",
      " 1   survived   1309 non-null   int64\n",
      " 2   sex        1309 non-null   int64\n",
      " 3   age        1309 non-null   int64\n",
      " 4   sibsp      1309 non-null   int64\n",
      " 5   parch      1309 non-null   int64\n",
      " 6   fare       1309 non-null   int64\n",
      " 7   embarked   1309 non-null   int64\n",
      " 8   Title      1309 non-null   int64\n",
      " 9   relatives  1309 non-null   int64\n",
      " 10  not_alone  1309 non-null   int64\n",
      "dtypes: int64(11)\n",
      "memory usage: 112.6 KB\n"
     ]
    }
   ],
   "source": [
    "df.info()"
   ]
  },
  {
   "cell_type": "code",
   "execution_count": 35,
   "metadata": {},
   "outputs": [],
   "source": [
    "X = df.drop('survived',axis=1)\n",
    "y = df['survived']"
   ]
  },
  {
   "cell_type": "markdown",
   "metadata": {},
   "source": [
    "### Feature Selection"
   ]
  },
  {
   "cell_type": "code",
   "execution_count": 36,
   "metadata": {},
   "outputs": [
    {
     "name": "stdout",
     "output_type": "stream",
     "text": [
      "[0.12819684 0.29466894 0.14382417 0.03826386 0.02959532 0.10975887\n",
      " 0.048719   0.14243021 0.04790704 0.01663576]\n"
     ]
    },
    {
     "data": {
      "image/png": "[encoded data removed]",
      "text/plain": [
       "<Figure size 432x288 with 1 Axes>"
      ]
     },
     "metadata": {
      "needs_background": "light"
     },
     "output_type": "display_data"
    }
   ],
   "source": [
    "from sklearn.ensemble import ExtraTreesClassifier\n",
    "\n",
    "model = ExtraTreesClassifier()\n",
    "model.fit(X,y)\n",
    "\n",
    "#use inbuilt class feature_importances of tree based classifiers\n",
    "print(model.feature_importances_) \n",
    "\n",
    "#plot graph of feature importances for better visualization\n",
    "feat_importances = pd.Series(model.feature_importances_, index=X.columns)\n",
    "feat_importances.nlargest(10).plot(kind='barh')\n",
    "plt.show()"
   ]
  },
  {
   "cell_type": "code",
   "execution_count": 37,
   "metadata": {},
   "outputs": [],
   "source": [
    "# Set features on the basis of importance\n",
    "X = df[feat_importances.index]\n",
    "Y = df['survived']"
   ]
  },
  {
   "cell_type": "code",
   "execution_count": 38,
   "metadata": {},
   "outputs": [],
   "source": [
    "from sklearn.model_selection import train_test_split\n",
    "X_train, X_test, y_train, y_test = train_test_split(X, y, random_state=42)"
   ]
  },
  {
   "cell_type": "code",
   "execution_count": 44,
   "metadata": {},
   "outputs": [],
   "source": [
    "# Scale your data\n",
    "from sklearn.preprocessing import MinMaxScaler\n",
    "\n",
    "# Create scaler object\n",
    "X_scaler = MinMaxScaler().fit(X_train)\n",
    "\n",
    "# Scale training and testing data\n",
    "X_train_scaled = X_scaler.transform(X_train)\n",
    "X_test_scaled = X_scaler.transform(X_test)"
   ]
  },
  {
   "cell_type": "code",
   "execution_count": 39,
   "metadata": {},
   "outputs": [],
   "source": [
    "# from sklearn.preprocessing import StandardScaler\n",
    "\n",
    "# X_scaler = StandardScaler().fit(X_train.values.reshape(-1, 1))\n",
    "# y_scaler = StandardScaler().fit(y_train.values.reshape(-1, 1))"
   ]
  },
  {
   "cell_type": "code",
   "execution_count": 40,
   "metadata": {},
   "outputs": [],
   "source": [
    "# X_train_scaled = X_scaler.transform(X_train.values.reshape(-1, 1))\n",
    "# X_test_scaled = X_scaler.transform(X_test.values.reshape(-1, 1))\n",
    "# y_train_scaled = y_scaler.transform(y_train.values.reshape(-1, 1))\n",
    "# y_test_scaled = y_scaler.transform(y_test.values.reshape(-1, 1))"
   ]
  },
  {
   "cell_type": "code",
   "execution_count": 47,
   "metadata": {},
   "outputs": [
    {
     "data": {
      "text/plain": [
       "SVC(kernel='linear')"
      ]
     },
     "execution_count": 47,
     "metadata": {},
     "output_type": "execute_result"
    }
   ],
   "source": [
    "# Support vector machine linear classifier\n",
    "\n",
    "from sklearn.svm import SVC \n",
    "\n",
    "model = SVC(kernel='linear')\n",
    "model.fit(X_train_scaled, y_train)"
   ]
  },
  {
   "cell_type": "code",
   "execution_count": 42,
   "metadata": {},
   "outputs": [
    {
     "ename": "ValueError",
     "evalue": "Found input variables with inconsistent numbers of samples: [9810, 981]",
     "output_type": "error",
     "traceback": [
      "\u001b[1;31m---------------------------------------------------------------------------\u001b[0m",
      "\u001b[1;31mValueError\u001b[0m                                Traceback (most recent call last)",
      "\u001b[1;32m<ipython-input-42-6a07e1e88e85>\u001b[0m in \u001b[0;36m<module>\u001b[1;34m\u001b[0m\n\u001b[0;32m      1\u001b[0m \u001b[1;32mfrom\u001b[0m \u001b[0msklearn\u001b[0m\u001b[1;33m.\u001b[0m\u001b[0mlinear_model\u001b[0m \u001b[1;32mimport\u001b[0m \u001b[0mLinearRegression\u001b[0m\u001b[1;33m\u001b[0m\u001b[1;33m\u001b[0m\u001b[0m\n\u001b[0;32m      2\u001b[0m \u001b[0mmodel\u001b[0m \u001b[1;33m=\u001b[0m \u001b[0mLinearRegression\u001b[0m\u001b[1;33m(\u001b[0m\u001b[1;33m)\u001b[0m\u001b[1;33m\u001b[0m\u001b[1;33m\u001b[0m\u001b[0m\n\u001b[1;32m----> 3\u001b[1;33m \u001b[0mmodel\u001b[0m\u001b[1;33m.\u001b[0m\u001b[0mfit\u001b[0m\u001b[1;33m(\u001b[0m\u001b[0mX_train_scaled\u001b[0m\u001b[1;33m,\u001b[0m \u001b[0my_train\u001b[0m\u001b[1;33m)\u001b[0m\u001b[1;33m\u001b[0m\u001b[1;33m\u001b[0m\u001b[0m\n\u001b[0m",
      "\u001b[1;32m~\\Anaconda3\\envs\\PythonData\\lib\\site-packages\\sklearn\\linear_model\\_base.py\u001b[0m in \u001b[0;36mfit\u001b[1;34m(self, X, y, sample_weight)\u001b[0m\n\u001b[0;32m    504\u001b[0m         \u001b[0mn_jobs_\u001b[0m \u001b[1;33m=\u001b[0m \u001b[0mself\u001b[0m\u001b[1;33m.\u001b[0m\u001b[0mn_jobs\u001b[0m\u001b[1;33m\u001b[0m\u001b[1;33m\u001b[0m\u001b[0m\n\u001b[0;32m    505\u001b[0m         X, y = self._validate_data(X, y, accept_sparse=['csr', 'csc', 'coo'],\n\u001b[1;32m--> 506\u001b[1;33m                                    y_numeric=True, multi_output=True)\n\u001b[0m\u001b[0;32m    507\u001b[0m \u001b[1;33m\u001b[0m\u001b[0m\n\u001b[0;32m    508\u001b[0m         \u001b[1;32mif\u001b[0m \u001b[0msample_weight\u001b[0m \u001b[1;32mis\u001b[0m \u001b[1;32mnot\u001b[0m \u001b[1;32mNone\u001b[0m\u001b[1;33m:\u001b[0m\u001b[1;33m\u001b[0m\u001b[1;33m\u001b[0m\u001b[0m\n",
      "\u001b[1;32m~\\Anaconda3\\envs\\PythonData\\lib\\site-packages\\sklearn\\base.py\u001b[0m in \u001b[0;36m_validate_data\u001b[1;34m(self, X, y, reset, validate_separately, **check_params)\u001b[0m\n\u001b[0;32m    430\u001b[0m                 \u001b[0my\u001b[0m \u001b[1;33m=\u001b[0m \u001b[0mcheck_array\u001b[0m\u001b[1;33m(\u001b[0m\u001b[0my\u001b[0m\u001b[1;33m,\u001b[0m \u001b[1;33m**\u001b[0m\u001b[0mcheck_y_params\u001b[0m\u001b[1;33m)\u001b[0m\u001b[1;33m\u001b[0m\u001b[1;33m\u001b[0m\u001b[0m\n\u001b[0;32m    431\u001b[0m             \u001b[1;32melse\u001b[0m\u001b[1;33m:\u001b[0m\u001b[1;33m\u001b[0m\u001b[1;33m\u001b[0m\u001b[0m\n\u001b[1;32m--> 432\u001b[1;33m                 \u001b[0mX\u001b[0m\u001b[1;33m,\u001b[0m \u001b[0my\u001b[0m \u001b[1;33m=\u001b[0m \u001b[0mcheck_X_y\u001b[0m\u001b[1;33m(\u001b[0m\u001b[0mX\u001b[0m\u001b[1;33m,\u001b[0m \u001b[0my\u001b[0m\u001b[1;33m,\u001b[0m \u001b[1;33m**\u001b[0m\u001b[0mcheck_params\u001b[0m\u001b[1;33m)\u001b[0m\u001b[1;33m\u001b[0m\u001b[1;33m\u001b[0m\u001b[0m\n\u001b[0m\u001b[0;32m    433\u001b[0m             \u001b[0mout\u001b[0m \u001b[1;33m=\u001b[0m \u001b[0mX\u001b[0m\u001b[1;33m,\u001b[0m \u001b[0my\u001b[0m\u001b[1;33m\u001b[0m\u001b[1;33m\u001b[0m\u001b[0m\n\u001b[0;32m    434\u001b[0m \u001b[1;33m\u001b[0m\u001b[0m\n",
      "\u001b[1;32m~\\Anaconda3\\envs\\PythonData\\lib\\site-packages\\sklearn\\utils\\validation.py\u001b[0m in \u001b[0;36minner_f\u001b[1;34m(*args, **kwargs)\u001b[0m\n\u001b[0;32m     71\u001b[0m                           FutureWarning)\n\u001b[0;32m     72\u001b[0m         \u001b[0mkwargs\u001b[0m\u001b[1;33m.\u001b[0m\u001b[0mupdate\u001b[0m\u001b[1;33m(\u001b[0m\u001b[1;33m{\u001b[0m\u001b[0mk\u001b[0m\u001b[1;33m:\u001b[0m \u001b[0marg\u001b[0m \u001b[1;32mfor\u001b[0m \u001b[0mk\u001b[0m\u001b[1;33m,\u001b[0m \u001b[0marg\u001b[0m \u001b[1;32min\u001b[0m \u001b[0mzip\u001b[0m\u001b[1;33m(\u001b[0m\u001b[0msig\u001b[0m\u001b[1;33m.\u001b[0m\u001b[0mparameters\u001b[0m\u001b[1;33m,\u001b[0m \u001b[0margs\u001b[0m\u001b[1;33m)\u001b[0m\u001b[1;33m}\u001b[0m\u001b[1;33m)\u001b[0m\u001b[1;33m\u001b[0m\u001b[1;33m\u001b[0m\u001b[0m\n\u001b[1;32m---> 73\u001b[1;33m         \u001b[1;32mreturn\u001b[0m \u001b[0mf\u001b[0m\u001b[1;33m(\u001b[0m\u001b[1;33m**\u001b[0m\u001b[0mkwargs\u001b[0m\u001b[1;33m)\u001b[0m\u001b[1;33m\u001b[0m\u001b[1;33m\u001b[0m\u001b[0m\n\u001b[0m\u001b[0;32m     74\u001b[0m     \u001b[1;32mreturn\u001b[0m \u001b[0minner_f\u001b[0m\u001b[1;33m\u001b[0m\u001b[1;33m\u001b[0m\u001b[0m\n\u001b[0;32m     75\u001b[0m \u001b[1;33m\u001b[0m\u001b[0m\n",
      "\u001b[1;32m~\\Anaconda3\\envs\\PythonData\\lib\\site-packages\\sklearn\\utils\\validation.py\u001b[0m in \u001b[0;36mcheck_X_y\u001b[1;34m(X, y, accept_sparse, accept_large_sparse, dtype, order, copy, force_all_finite, ensure_2d, allow_nd, multi_output, ensure_min_samples, ensure_min_features, y_numeric, estimator)\u001b[0m\n\u001b[0;32m    811\u001b[0m         \u001b[0my\u001b[0m \u001b[1;33m=\u001b[0m \u001b[0my\u001b[0m\u001b[1;33m.\u001b[0m\u001b[0mastype\u001b[0m\u001b[1;33m(\u001b[0m\u001b[0mnp\u001b[0m\u001b[1;33m.\u001b[0m\u001b[0mfloat64\u001b[0m\u001b[1;33m)\u001b[0m\u001b[1;33m\u001b[0m\u001b[1;33m\u001b[0m\u001b[0m\n\u001b[0;32m    812\u001b[0m \u001b[1;33m\u001b[0m\u001b[0m\n\u001b[1;32m--> 813\u001b[1;33m     \u001b[0mcheck_consistent_length\u001b[0m\u001b[1;33m(\u001b[0m\u001b[0mX\u001b[0m\u001b[1;33m,\u001b[0m \u001b[0my\u001b[0m\u001b[1;33m)\u001b[0m\u001b[1;33m\u001b[0m\u001b[1;33m\u001b[0m\u001b[0m\n\u001b[0m\u001b[0;32m    814\u001b[0m \u001b[1;33m\u001b[0m\u001b[0m\n\u001b[0;32m    815\u001b[0m     \u001b[1;32mreturn\u001b[0m \u001b[0mX\u001b[0m\u001b[1;33m,\u001b[0m \u001b[0my\u001b[0m\u001b[1;33m\u001b[0m\u001b[1;33m\u001b[0m\u001b[0m\n",
      "\u001b[1;32m~\\Anaconda3\\envs\\PythonData\\lib\\site-packages\\sklearn\\utils\\validation.py\u001b[0m in \u001b[0;36mcheck_consistent_length\u001b[1;34m(*arrays)\u001b[0m\n\u001b[0;32m    255\u001b[0m     \u001b[1;32mif\u001b[0m \u001b[0mlen\u001b[0m\u001b[1;33m(\u001b[0m\u001b[0muniques\u001b[0m\u001b[1;33m)\u001b[0m \u001b[1;33m>\u001b[0m \u001b[1;36m1\u001b[0m\u001b[1;33m:\u001b[0m\u001b[1;33m\u001b[0m\u001b[1;33m\u001b[0m\u001b[0m\n\u001b[0;32m    256\u001b[0m         raise ValueError(\"Found input variables with inconsistent numbers of\"\n\u001b[1;32m--> 257\u001b[1;33m                          \" samples: %r\" % [int(l) for l in lengths])\n\u001b[0m\u001b[0;32m    258\u001b[0m \u001b[1;33m\u001b[0m\u001b[0m\n\u001b[0;32m    259\u001b[0m \u001b[1;33m\u001b[0m\u001b[0m\n",
      "\u001b[1;31mValueError\u001b[0m: Found input variables with inconsistent numbers of samples: [9810, 981]"
     ]
    }
   ],
   "source": [
    "# from sklearn.linear_model import LinearRegression\n",
    "# model = LinearRegression()\n",
    "# model.fit(X_train_scaled, y_train)"
   ]
  },
  {
   "cell_type": "code",
   "execution_count": 48,
   "metadata": {},
   "outputs": [
    {
     "name": "stdout",
     "output_type": "stream",
     "text": [
      "Training Data Score: 0.7859327217125383\n",
      "Testing Data Score: 0.7865853658536586\n"
     ]
    }
   ],
   "source": [
    "# Model Accuracy\n",
    "print(f\"Training Data Score: {model.score(X_train_scaled, y_train)}\")\n",
    "print(f\"Testing Data Score: {model.score(X_test_scaled, y_test)}\")"
   ]
  },
  {
   "cell_type": "code",
   "execution_count": 49,
   "metadata": {},
   "outputs": [],
   "source": [
    "from sklearn.model_selection import GridSearchCV\n",
    "\n",
    "# Create the GridSearchCV model\n",
    "param_grid = [{'C':[1, 5, 10, 50], 'kernel':['linear']},\n",
    "             {'C':[1, 5, 10, 50], 'kernel':['rbf'], 'gamma': [0.0001, 0.0005, 0.001, 0.005]}]\n",
    "\n",
    "grid = GridSearchCV(model, param_grid, verbose=3)"
   ]
  },
  {
   "cell_type": "code",
   "execution_count": 50,
   "metadata": {},
   "outputs": [
    {
     "name": "stdout",
     "output_type": "stream",
     "text": [
      "Fitting 5 folds for each of 20 candidates, totalling 100 fits\n",
      "[CV] C=1, kernel=linear ..............................................\n",
      "[CV] .................. C=1, kernel=linear, score=0.761, total=   0.0s\n",
      "[CV] C=1, kernel=linear ..............................................\n",
      "[CV] .................. C=1, kernel=linear, score=0.816, total=   0.0s\n",
      "[CV] C=1, kernel=linear ..............................................\n",
      "[CV] .................. C=1, kernel=linear, score=0.821, total=   0.0s\n",
      "[CV] C=1, kernel=linear ..............................................\n",
      "[CV] .................. C=1, kernel=linear, score=0.781, total=   0.0s\n",
      "[CV] C=1, kernel=linear ..............................................\n",
      "[CV] .................. C=1, kernel=linear, score=0.730, total=   0.0s\n",
      "[CV] C=5, kernel=linear ..............................................\n",
      "[CV] .................. C=5, kernel=linear, score=0.761, total=   0.0s\n",
      "[CV] C=5, kernel=linear ..............................................\n",
      "[CV] .................. C=5, kernel=linear, score=0.806, total=   0.0s\n",
      "[CV] C=5, kernel=linear ..............................................\n",
      "[CV] .................. C=5, kernel=linear, score=0.821, total=   0.0s\n",
      "[CV] C=5, kernel=linear ..............................................\n",
      "[CV] .................. C=5, kernel=linear, score=0.776, total=   0.0s\n",
      "[CV] C=5, kernel=linear ..............................................\n",
      "[CV] .................. C=5, kernel=linear, score=0.745, total=   0.0s\n",
      "[CV] C=10, kernel=linear .............................................\n",
      "[CV] ................. C=10, kernel=linear, score=0.761, total=   0.0s\n",
      "[CV] C=10, kernel=linear .............................................\n",
      "[CV] ................. C=10, kernel=linear, score=0.806, total=   0.0s\n",
      "[CV] C=10, kernel=linear .............................................\n"
     ]
    },
    {
     "name": "stderr",
     "output_type": "stream",
     "text": [
      "[Parallel(n_jobs=1)]: Using backend SequentialBackend with 1 concurrent workers.\n",
      "[Parallel(n_jobs=1)]: Done   1 out of   1 | elapsed:    0.0s remaining:    0.0s\n",
      "[Parallel(n_jobs=1)]: Done   2 out of   2 | elapsed:    0.0s remaining:    0.0s\n"
     ]
    },
    {
     "name": "stdout",
     "output_type": "stream",
     "text": [
      "[CV] ................. C=10, kernel=linear, score=0.821, total=   0.0s\n",
      "[CV] C=10, kernel=linear .............................................\n",
      "[CV] ................. C=10, kernel=linear, score=0.776, total=   0.0s\n",
      "[CV] C=10, kernel=linear .............................................\n",
      "[CV] ................. C=10, kernel=linear, score=0.735, total=   0.0s\n",
      "[CV] C=50, kernel=linear .............................................\n",
      "[CV] ................. C=50, kernel=linear, score=0.761, total=   0.0s\n",
      "[CV] C=50, kernel=linear .............................................\n",
      "[CV] ................. C=50, kernel=linear, score=0.806, total=   0.1s\n",
      "[CV] C=50, kernel=linear .............................................\n",
      "[CV] ................. C=50, kernel=linear, score=0.821, total=   0.1s\n",
      "[CV] C=50, kernel=linear .............................................\n",
      "[CV] ................. C=50, kernel=linear, score=0.776, total=   0.1s\n",
      "[CV] C=50, kernel=linear .............................................\n",
      "[CV] ................. C=50, kernel=linear, score=0.735, total=   0.0s\n",
      "[CV] C=1, gamma=0.0001, kernel=rbf ...................................\n",
      "[CV] ....... C=1, gamma=0.0001, kernel=rbf, score=0.635, total=   0.0s\n",
      "[CV] C=1, gamma=0.0001, kernel=rbf ...................................\n",
      "[CV] ....... C=1, gamma=0.0001, kernel=rbf, score=0.638, total=   0.0s\n",
      "[CV] C=1, gamma=0.0001, kernel=rbf ...................................\n",
      "[CV] ....... C=1, gamma=0.0001, kernel=rbf, score=0.638, total=   0.0s\n",
      "[CV] C=1, gamma=0.0001, kernel=rbf ...................................\n",
      "[CV] ....... C=1, gamma=0.0001, kernel=rbf, score=0.638, total=   0.0s\n",
      "[CV] C=1, gamma=0.0001, kernel=rbf ...................................\n",
      "[CV] ....... C=1, gamma=0.0001, kernel=rbf, score=0.638, total=   0.0s\n",
      "[CV] C=1, gamma=0.0005, kernel=rbf ...................................\n",
      "[CV] ....... C=1, gamma=0.0005, kernel=rbf, score=0.635, total=   0.0s\n",
      "[CV] C=1, gamma=0.0005, kernel=rbf ...................................\n",
      "[CV] ....... C=1, gamma=0.0005, kernel=rbf, score=0.638, total=   0.0s\n",
      "[CV] C=1, gamma=0.0005, kernel=rbf ...................................\n",
      "[CV] ....... C=1, gamma=0.0005, kernel=rbf, score=0.638, total=   0.0s\n",
      "[CV] C=1, gamma=0.0005, kernel=rbf ...................................\n",
      "[CV] ....... C=1, gamma=0.0005, kernel=rbf, score=0.638, total=   0.0s\n",
      "[CV] C=1, gamma=0.0005, kernel=rbf ...................................\n",
      "[CV] ....... C=1, gamma=0.0005, kernel=rbf, score=0.638, total=   0.0s\n",
      "[CV] C=1, gamma=0.001, kernel=rbf ....................................\n",
      "[CV] ........ C=1, gamma=0.001, kernel=rbf, score=0.635, total=   0.0s\n",
      "[CV] C=1, gamma=0.001, kernel=rbf ....................................\n",
      "[CV] ........ C=1, gamma=0.001, kernel=rbf, score=0.638, total=   0.0s\n",
      "[CV] C=1, gamma=0.001, kernel=rbf ....................................\n",
      "[CV] ........ C=1, gamma=0.001, kernel=rbf, score=0.638, total=   0.0s\n",
      "[CV] C=1, gamma=0.001, kernel=rbf ....................................\n",
      "[CV] ........ C=1, gamma=0.001, kernel=rbf, score=0.638, total=   0.0s\n",
      "[CV] C=1, gamma=0.001, kernel=rbf ....................................\n",
      "[CV] ........ C=1, gamma=0.001, kernel=rbf, score=0.638, total=   0.0s\n",
      "[CV] C=1, gamma=0.005, kernel=rbf ....................................\n",
      "[CV] ........ C=1, gamma=0.005, kernel=rbf, score=0.761, total=   0.0s\n",
      "[CV] C=1, gamma=0.005, kernel=rbf ....................................\n",
      "[CV] ........ C=1, gamma=0.005, kernel=rbf, score=0.816, total=   0.0s\n",
      "[CV] C=1, gamma=0.005, kernel=rbf ....................................\n",
      "[CV] ........ C=1, gamma=0.005, kernel=rbf, score=0.832, total=   0.0s\n",
      "[CV] C=1, gamma=0.005, kernel=rbf ....................................\n",
      "[CV] ........ C=1, gamma=0.005, kernel=rbf, score=0.776, total=   0.0s\n",
      "[CV] C=1, gamma=0.005, kernel=rbf ....................................\n",
      "[CV] ........ C=1, gamma=0.005, kernel=rbf, score=0.730, total=   0.0s\n",
      "[CV] C=5, gamma=0.0001, kernel=rbf ...................................\n",
      "[CV] ....... C=5, gamma=0.0001, kernel=rbf, score=0.635, total=   0.0s\n",
      "[CV] C=5, gamma=0.0001, kernel=rbf ...................................\n",
      "[CV] ....... C=5, gamma=0.0001, kernel=rbf, score=0.638, total=   0.0s\n",
      "[CV] C=5, gamma=0.0001, kernel=rbf ...................................\n",
      "[CV] ....... C=5, gamma=0.0001, kernel=rbf, score=0.638, total=   0.0s\n",
      "[CV] C=5, gamma=0.0001, kernel=rbf ...................................\n",
      "[CV] ....... C=5, gamma=0.0001, kernel=rbf, score=0.638, total=   0.0s\n",
      "[CV] C=5, gamma=0.0001, kernel=rbf ...................................\n",
      "[CV] ....... C=5, gamma=0.0001, kernel=rbf, score=0.638, total=   0.0s\n",
      "[CV] C=5, gamma=0.0005, kernel=rbf ...................................\n",
      "[CV] ....... C=5, gamma=0.0005, kernel=rbf, score=0.635, total=   0.0s\n",
      "[CV] C=5, gamma=0.0005, kernel=rbf ...................................\n",
      "[CV] ....... C=5, gamma=0.0005, kernel=rbf, score=0.638, total=   0.0s\n",
      "[CV] C=5, gamma=0.0005, kernel=rbf ...................................\n",
      "[CV] ....... C=5, gamma=0.0005, kernel=rbf, score=0.638, total=   0.0s\n",
      "[CV] C=5, gamma=0.0005, kernel=rbf ...................................\n",
      "[CV] ....... C=5, gamma=0.0005, kernel=rbf, score=0.638, total=   0.0s\n",
      "[CV] C=5, gamma=0.0005, kernel=rbf ...................................\n",
      "[CV] ....... C=5, gamma=0.0005, kernel=rbf, score=0.638, total=   0.0s\n",
      "[CV] C=5, gamma=0.001, kernel=rbf ....................................\n",
      "[CV] ........ C=5, gamma=0.001, kernel=rbf, score=0.761, total=   0.0s\n",
      "[CV] C=5, gamma=0.001, kernel=rbf ....................................\n",
      "[CV] ........ C=5, gamma=0.001, kernel=rbf, score=0.816, total=   0.0s\n",
      "[CV] C=5, gamma=0.001, kernel=rbf ....................................\n",
      "[CV] ........ C=5, gamma=0.001, kernel=rbf, score=0.832, total=   0.0s\n",
      "[CV] C=5, gamma=0.001, kernel=rbf ....................................\n",
      "[CV] ........ C=5, gamma=0.001, kernel=rbf, score=0.776, total=   0.0s\n",
      "[CV] C=5, gamma=0.001, kernel=rbf ....................................\n",
      "[CV] ........ C=5, gamma=0.001, kernel=rbf, score=0.730, total=   0.0s\n",
      "[CV] C=5, gamma=0.005, kernel=rbf ....................................\n",
      "[CV] ........ C=5, gamma=0.005, kernel=rbf, score=0.761, total=   0.0s\n",
      "[CV] C=5, gamma=0.005, kernel=rbf ....................................\n",
      "[CV] ........ C=5, gamma=0.005, kernel=rbf, score=0.811, total=   0.0s\n",
      "[CV] C=5, gamma=0.005, kernel=rbf ....................................\n",
      "[CV] ........ C=5, gamma=0.005, kernel=rbf, score=0.821, total=   0.0s\n",
      "[CV] C=5, gamma=0.005, kernel=rbf ....................................\n",
      "[CV] ........ C=5, gamma=0.005, kernel=rbf, score=0.776, total=   0.0s\n",
      "[CV] C=5, gamma=0.005, kernel=rbf ....................................\n",
      "[CV] ........ C=5, gamma=0.005, kernel=rbf, score=0.730, total=   0.0s\n",
      "[CV] C=10, gamma=0.0001, kernel=rbf ..................................\n",
      "[CV] ...... C=10, gamma=0.0001, kernel=rbf, score=0.635, total=   0.0s\n",
      "[CV] C=10, gamma=0.0001, kernel=rbf ..................................\n",
      "[CV] ...... C=10, gamma=0.0001, kernel=rbf, score=0.638, total=   0.0s\n",
      "[CV] C=10, gamma=0.0001, kernel=rbf ..................................\n",
      "[CV] ...... C=10, gamma=0.0001, kernel=rbf, score=0.638, total=   0.0s\n",
      "[CV] C=10, gamma=0.0001, kernel=rbf ..................................\n",
      "[CV] ...... C=10, gamma=0.0001, kernel=rbf, score=0.638, total=   0.0s\n",
      "[CV] C=10, gamma=0.0001, kernel=rbf ..................................\n",
      "[CV] ...... C=10, gamma=0.0001, kernel=rbf, score=0.638, total=   0.0s\n",
      "[CV] C=10, gamma=0.0005, kernel=rbf ..................................\n",
      "[CV] ...... C=10, gamma=0.0005, kernel=rbf, score=0.761, total=   0.0s\n",
      "[CV] C=10, gamma=0.0005, kernel=rbf ..................................\n",
      "[CV] ...... C=10, gamma=0.0005, kernel=rbf, score=0.816, total=   0.0s\n",
      "[CV] C=10, gamma=0.0005, kernel=rbf ..................................\n",
      "[CV] ...... C=10, gamma=0.0005, kernel=rbf, score=0.832, total=   0.0s\n",
      "[CV] C=10, gamma=0.0005, kernel=rbf ..................................\n",
      "[CV] ...... C=10, gamma=0.0005, kernel=rbf, score=0.776, total=   0.0s\n",
      "[CV] C=10, gamma=0.0005, kernel=rbf ..................................\n",
      "[CV] ...... C=10, gamma=0.0005, kernel=rbf, score=0.730, total=   0.0s\n",
      "[CV] C=10, gamma=0.001, kernel=rbf ...................................\n",
      "[CV] ....... C=10, gamma=0.001, kernel=rbf, score=0.761, total=   0.0s\n",
      "[CV] C=10, gamma=0.001, kernel=rbf ...................................\n",
      "[CV] ....... C=10, gamma=0.001, kernel=rbf, score=0.811, total=   0.0s\n",
      "[CV] C=10, gamma=0.001, kernel=rbf ...................................\n",
      "[CV] ....... C=10, gamma=0.001, kernel=rbf, score=0.821, total=   0.0s\n",
      "[CV] C=10, gamma=0.001, kernel=rbf ...................................\n",
      "[CV] ....... C=10, gamma=0.001, kernel=rbf, score=0.776, total=   0.0s\n",
      "[CV] C=10, gamma=0.001, kernel=rbf ...................................\n",
      "[CV] ....... C=10, gamma=0.001, kernel=rbf, score=0.730, total=   0.0s\n",
      "[CV] C=10, gamma=0.005, kernel=rbf ...................................\n",
      "[CV] ....... C=10, gamma=0.005, kernel=rbf, score=0.761, total=   0.0s\n",
      "[CV] C=10, gamma=0.005, kernel=rbf ...................................\n"
     ]
    },
    {
     "name": "stdout",
     "output_type": "stream",
     "text": [
      "[CV] ....... C=10, gamma=0.005, kernel=rbf, score=0.811, total=   0.0s\n",
      "[CV] C=10, gamma=0.005, kernel=rbf ...................................\n",
      "[CV] ....... C=10, gamma=0.005, kernel=rbf, score=0.821, total=   0.0s\n",
      "[CV] C=10, gamma=0.005, kernel=rbf ...................................\n",
      "[CV] ....... C=10, gamma=0.005, kernel=rbf, score=0.776, total=   0.0s\n",
      "[CV] C=10, gamma=0.005, kernel=rbf ...................................\n",
      "[CV] ....... C=10, gamma=0.005, kernel=rbf, score=0.730, total=   0.0s\n",
      "[CV] C=50, gamma=0.0001, kernel=rbf ..................................\n",
      "[CV] ...... C=50, gamma=0.0001, kernel=rbf, score=0.761, total=   0.0s\n",
      "[CV] C=50, gamma=0.0001, kernel=rbf ..................................\n",
      "[CV] ...... C=50, gamma=0.0001, kernel=rbf, score=0.816, total=   0.0s\n",
      "[CV] C=50, gamma=0.0001, kernel=rbf ..................................\n",
      "[CV] ...... C=50, gamma=0.0001, kernel=rbf, score=0.832, total=   0.0s\n",
      "[CV] C=50, gamma=0.0001, kernel=rbf ..................................\n",
      "[CV] ...... C=50, gamma=0.0001, kernel=rbf, score=0.776, total=   0.0s\n",
      "[CV] C=50, gamma=0.0001, kernel=rbf ..................................\n",
      "[CV] ...... C=50, gamma=0.0001, kernel=rbf, score=0.730, total=   0.0s\n",
      "[CV] C=50, gamma=0.0005, kernel=rbf ..................................\n",
      "[CV] ...... C=50, gamma=0.0005, kernel=rbf, score=0.761, total=   0.0s\n",
      "[CV] C=50, gamma=0.0005, kernel=rbf ..................................\n",
      "[CV] ...... C=50, gamma=0.0005, kernel=rbf, score=0.811, total=   0.0s\n",
      "[CV] C=50, gamma=0.0005, kernel=rbf ..................................\n",
      "[CV] ...... C=50, gamma=0.0005, kernel=rbf, score=0.821, total=   0.0s\n",
      "[CV] C=50, gamma=0.0005, kernel=rbf ..................................\n",
      "[CV] ...... C=50, gamma=0.0005, kernel=rbf, score=0.776, total=   0.0s\n",
      "[CV] C=50, gamma=0.0005, kernel=rbf ..................................\n",
      "[CV] ...... C=50, gamma=0.0005, kernel=rbf, score=0.730, total=   0.0s\n",
      "[CV] C=50, gamma=0.001, kernel=rbf ...................................\n",
      "[CV] ....... C=50, gamma=0.001, kernel=rbf, score=0.761, total=   0.0s\n",
      "[CV] C=50, gamma=0.001, kernel=rbf ...................................\n",
      "[CV] ....... C=50, gamma=0.001, kernel=rbf, score=0.811, total=   0.0s\n",
      "[CV] C=50, gamma=0.001, kernel=rbf ...................................\n",
      "[CV] ....... C=50, gamma=0.001, kernel=rbf, score=0.821, total=   0.0s\n",
      "[CV] C=50, gamma=0.001, kernel=rbf ...................................\n",
      "[CV] ....... C=50, gamma=0.001, kernel=rbf, score=0.776, total=   0.0s\n",
      "[CV] C=50, gamma=0.001, kernel=rbf ...................................\n",
      "[CV] ....... C=50, gamma=0.001, kernel=rbf, score=0.730, total=   0.0s\n",
      "[CV] C=50, gamma=0.005, kernel=rbf ...................................\n",
      "[CV] ....... C=50, gamma=0.005, kernel=rbf, score=0.761, total=   0.0s\n",
      "[CV] C=50, gamma=0.005, kernel=rbf ...................................\n",
      "[CV] ....... C=50, gamma=0.005, kernel=rbf, score=0.816, total=   0.0s\n",
      "[CV] C=50, gamma=0.005, kernel=rbf ...................................\n",
      "[CV] ....... C=50, gamma=0.005, kernel=rbf, score=0.821, total=   0.0s\n",
      "[CV] C=50, gamma=0.005, kernel=rbf ...................................\n",
      "[CV] ....... C=50, gamma=0.005, kernel=rbf, score=0.776, total=   0.0s\n",
      "[CV] C=50, gamma=0.005, kernel=rbf ...................................\n",
      "[CV] ....... C=50, gamma=0.005, kernel=rbf, score=0.730, total=   0.0s\n"
     ]
    },
    {
     "name": "stderr",
     "output_type": "stream",
     "text": [
      "[Parallel(n_jobs=1)]: Done 100 out of 100 | elapsed:    2.1s finished\n"
     ]
    },
    {
     "data": {
      "text/plain": [
       "GridSearchCV(estimator=SVC(kernel='linear'),\n",
       "             param_grid=[{'C': [1, 5, 10, 50], 'kernel': ['linear']},\n",
       "                         {'C': [1, 5, 10, 50],\n",
       "                          'gamma': [0.0001, 0.0005, 0.001, 0.005],\n",
       "                          'kernel': ['rbf']}],\n",
       "             verbose=3)"
      ]
     },
     "execution_count": 50,
     "metadata": {},
     "output_type": "execute_result"
    }
   ],
   "source": [
    "# Train the new model with GridSearch\n",
    "grid.fit(X_train_scaled, y_train)"
   ]
  },
  {
   "cell_type": "code",
   "execution_count": 51,
   "metadata": {},
   "outputs": [
    {
     "name": "stdout",
     "output_type": "stream",
     "text": [
      "{'C': 1, 'gamma': 0.005, 'kernel': 'rbf'}\n",
      "Best Score:  0.7828965088573501\n"
     ]
    }
   ],
   "source": [
    "print(grid.best_params_)\n",
    "print(\"Best Score: \", grid.best_score_)"
   ]
  }
 ],
 "metadata": {
  "kernelspec": {
   "display_name": "Python 3.7.6 64-bit ('PythonData': conda)",
   "language": "python",
   "name": "python37664bitpythondatacondaf8068f3ef8f04aeabe34811a64ef10db"
  },
  "language_info": {
   "codemirror_mode": {
    "name": "ipython",
    "version": 3
   },
   "file_extension": ".py",
   "mimetype": "text/x-python",
   "name": "python",
   "nbconvert_exporter": "python",
   "pygments_lexer": "ipython3",
   "version": "3.7.7"
  }
 },
 "nbformat": 4,
 "nbformat_minor": 4
}
